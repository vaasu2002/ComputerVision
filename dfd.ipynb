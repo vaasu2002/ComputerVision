{
"cells": [
{
"cell_type": "markdown",
"metadata": {},
"source": [
"# Detecting Parkinson's Disease \n",
"by-\n",
"   A V BHAVYA"
]
},
{
"cell_type": "code",
"execution_count": 1,
"metadata": {},
"outputs": [
{
"name": "stdout",
"output_type": "stream",
"text": [
"Requirement already satisfied: numpy in d:\\anaconda3\\lib\\site-packages (1.18.1)\n",
"Requirement already satisfied: pandas in d:\\anaconda3\\lib\\site-packages (1.0.1)\n",
"Collecting sklearn\n",
"  Using cached sklearn-0.0.tar.gz (1.1 kB)\n",
"Requirement already satisfied: xgboost in d:\\anaconda3\\lib\\site-packages (1.3.1)\n",
"Requirement already satisfied: python-dateutil>=2.6.1 in d:\\anaconda3\\lib\\site-packages (from pandas) (2.8.1)\n",
"Requirement already satisfied: pytz>=2017.2 in d:\\anaconda3\\lib\\site-packages (from pandas) (2019.3)\n",
"Requirement already satisfied: scikit-learn in d:\\anaconda3\\lib\\site-packages (from sklearn) (0.22.1)\n",
"Requirement already satisfied: scipy in d:\\anaconda3\\lib\\site-packages (from xgboost) (1.4.1)\n",
"Requirement already satisfied: six>=1.5 in d:\\anaconda3\\lib\\site-packages (from python-dateutil>=2.6.1->pandas) (1.14.0)\n",
"Requirement already satisfied: joblib>=0.11 in d:\\anaconda3\\lib\\site-packages (from scikit-learn->sklearn) (0.14.1)\n",
"Building wheels for collected packages: sklearn\n",
"  Building wheel for sklearn (setup.py): started\n",
"  Building wheel for sklearn (setup.py): finished with status 'done'\n",
"  Created wheel for sklearn: filename=sklearn-0.0-py2.py3-none-any.whl size=1320 sha256=50010a6f0e97d8f4eec8b9410042cba2929b20144b480746b5af7d8c9a0ebbd0\n",
"  Stored in directory: c:\\users\\bhavya\\appdata\\local\\pip\\cache\\wheels\\46\\ef\\c3\\157e41f5ee1372d1be90b09f74f82b10e391eaacca8f22d33e\n",
"Successfully built sklearn\n",
"Installing collected packages: sklearn\n",
"Successfully installed sklearn-0.0\n",
"Note: you may need to restart the kernel to use updated packages.\n"
]
}
],
"source": [
"pip install numpy pandas sklearn xgboost"
]
},
{
"cell_type": "code",
"execution_count": 2,
"metadata": {},
"outputs": [],
"source": [
"#make necessary imports\n",
"import numpy as np\n",
"import pandas as pd\n",
"import os, sys\n",
"from sklearn.preprocessing import MinMaxScaler\n",
"from xgboost import XGBClassifier\n",
"from sklearn.model_selection import train_test_split\n",
"from sklearn.metrics import accuracy_score"
]
},
{
"cell_type": "code",
"execution_count": 3,
"metadata": {},
"outputs": [
{
"data": {
"text/html": [
"<div>\n",
"<style scoped>\n",
"    .dataframe tbody tr th:only-of-type {\n",
"        vertical-align: middle;\n",
"    }\n",
"\n",
"    .dataframe tbody tr th {\n",
"        vertical-align: top;\n",
"    }\n",
"\n",
"    .dataframe thead th {\n",
"        text-align: right;\n",
"    }\n",
"</style>\n",
"<table border=\"1\" class=\"dataframe\">\n",
"  <thead>\n",
"    <tr style=\"text-align: right;\">\n",
"      <th></th>\n",
"      <th>name</th>\n",
"      <th>MDVP:Fo(Hz)</th>\n",
"      <th>MDVP:Fhi(Hz)</th>\n",
"      <th>MDVP:Flo(Hz)</th>\n",
"      <th>MDVP:Jitter(%)</th>\n",
"      <th>MDVP:Jitter(Abs)</th>\n",
"      <th>MDVP:RAP</th>\n",
"      <th>MDVP:PPQ</th>\n",
"      <th>Jitter:DDP</th>\n",
"      <th>MDVP:Shimmer</th>\n",
"      <th>...</th>\n",
"      <th>Shimmer:DDA</th>\n",
"      <th>NHR</th>\n",
"      <th>HNR</th>\n",
"      <th>RPDE</th>\n",
"      <th>DFA</th>\n",
"      <th>spread1</th>\n",
"      <th>spread2</th>\n",
"      <th>D2</th>\n",
"      <th>PPE</th>\n",
"      <th>status</th>\n",
"    </tr>\n",
"  </thead>\n",
"  <tbody>\n",
"    <tr>\n",
"      <th>0</th>\n",
"      <td>phon_R01_S01_1</td>\n",
"      <td>119.992</td>\n",
"      <td>157.302</td>\n",
"      <td>74.997</td>\n",
"      <td>0.00784</td>\n",
"      <td>0.00007</td>\n",
"      <td>0.00370</td>\n",
"      <td>0.00554</td>\n",
"      <td>0.01109</td>\n",
"      <td>0.04374</td>\n",
"      <td>...</td>\n",
"      <td>0.06545</td>\n",
"      <td>0.02211</td>\n",
"      <td>21.033</td>\n",
"      <td>0.414783</td>\n",
"      <td>0.815285</td>\n",
"      <td>-4.813031</td>\n",
"      <td>0.266482</td>\n",
"      <td>2.301442</td>\n",
"      <td>0.284654</td>\n",
"      <td>1</td>\n",
"    </tr>\n",
"    <tr>\n",
"      <th>1</th>\n",
"      <td>phon_R01_S01_2</td>\n",
"      <td>122.400</td>\n",
"      <td>148.650</td>\n",
"      <td>113.819</td>\n",
"      <td>0.00968</td>\n",
"      <td>0.00008</td>\n",
"      <td>0.00465</td>\n",
"      <td>0.00696</td>\n",
"      <td>0.01394</td>\n",
"      <td>0.06134</td>\n",
"      <td>...</td>\n",
"      <td>0.09403</td>\n",
"      <td>0.01929</td>\n",
"      <td>19.085</td>\n",
"      <td>0.458359</td>\n",
"      <td>0.819521</td>\n",
"      <td>-4.075192</td>\n",
"      <td>0.335590</td>\n",
"      <td>2.486855</td>\n",
"      <td>0.368674</td>\n",
"      <td>1</td>\n",
"    </tr>\n",
"    <tr>\n",
"      <th>2</th>\n",
"      <td>phon_R01_S01_3</td>\n",
"      <td>116.682</td>\n",
"      <td>131.111</td>\n",
"      <td>111.555</td>\n",
"      <td>0.01050</td>\n",
"      <td>0.00009</td>\n",
"      <td>0.00544</td>\n",
"      <td>0.00781</td>\n",
"      <td>0.01633</td>\n",
"      <td>0.05233</td>\n",
"      <td>...</td>\n",
"      <td>0.08270</td>\n",
"      <td>0.01309</td>\n",
"      <td>20.651</td>\n",
"      <td>0.429895</td>\n",
"      <td>0.825288</td>\n",
"      <td>-4.443179</td>\n",
"      <td>0.311173</td>\n",
"      <td>2.342259</td>\n",
"      <td>0.332634</td>\n",
"      <td>1</td>\n",
"    </tr>\n",
"    <tr>\n",
"      <th>3</th>\n",
"      <td>phon_R01_S01_4</td>\n",
"      <td>116.676</td>\n",
"      <td>137.871</td>\n",
"      <td>111.366</td>\n",
"      <td>0.00997</td>\n",
"      <td>0.00009</td>\n",
"      <td>0.00502</td>\n",
"      <td>0.00698</td>\n",
"      <td>0.01505</td>\n",
"      <td>0.05492</td>\n",
"      <td>...</td>\n",
"      <td>0.08771</td>\n",
"      <td>0.01353</td>\n",
"      <td>20.644</td>\n",
"      <td>0.434969</td>\n",
"      <td>0.819235</td>\n",
"      <td>-4.117501</td>\n",
"      <td>0.334147</td>\n",
"      <td>2.405554</td>\n",
"      <td>0.368975</td>\n",
"      <td>1</td>\n",
"    </tr>\n",
"    <tr>\n",
"      <th>4</th>\n",
"      <td>phon_R01_S01_5</td>\n",
"      <td>116.014</td>\n",
"      <td>141.781</td>\n",
"      <td>110.655</td>\n",
"      <td>0.01284</td>\n",
"      <td>0.00011</td>\n",
"      <td>0.00655</td>\n",
"      <td>0.00908</td>\n",
"      <td>0.01966</td>\n",
"      <td>0.06425</td>\n",
"      <td>...</td>\n",
"      <td>0.10470</td>\n",
"      <td>0.01767</td>\n",
"      <td>19.649</td>\n",
"      <td>0.417356</td>\n",
"      <td>0.823484</td>\n",
"      <td>-3.747787</td>\n",
"      <td>0.234513</td>\n",
"      <td>2.332180</td>\n",
"      <td>0.410335</td>\n",
"      <td>1</td>\n",
"    </tr>\n",
"  </tbody>\n",
"</table>\n",
"<p>5 rows × 24 columns</p>\n",
"</div>"
],
"text/plain": [
"             name  MDVP:Fo(Hz)  MDVP:Fhi(Hz)  MDVP:Flo(Hz)  MDVP:Jitter(%)  \\\n",
"0  phon_R01_S01_1      119.992       157.302        74.997         0.00784   \n",
"1  phon_R01_S01_2      122.400       148.650       113.819         0.00968   \n",
"2  phon_R01_S01_3      116.682       131.111       111.555         0.01050   \n",
"3  phon_R01_S01_4      116.676       137.871       111.366         0.00997   \n",
"4  phon_R01_S01_5      116.014       141.781       110.655         0.01284   \n",
"\n",
"   MDVP:Jitter(Abs)  MDVP:RAP  MDVP:PPQ  Jitter:DDP  MDVP:Shimmer  ...  \\\n",
"0           0.00007   0.00370   0.00554     0.01109       0.04374  ...   \n",
"1           0.00008   0.00465   0.00696     0.01394       0.06134  ...   \n",
"2           0.00009   0.00544   0.00781     0.01633       0.05233  ...   \n",
"3           0.00009   0.00502   0.00698     0.01505       0.05492  ...   \n",
"4           0.00011   0.00655   0.00908     0.01966       0.06425  ...   \n",
"\n",
"   Shimmer:DDA      NHR     HNR      RPDE       DFA   spread1   spread2  \\\n",
"0      0.06545  0.02211  21.033  0.414783  0.815285 -4.813031  0.266482   \n",
"1      0.09403  0.01929  19.085  0.458359  0.819521 -4.075192  0.335590   \n",
"2      0.08270  0.01309  20.651  0.429895  0.825288 -4.443179  0.311173   \n",
"3      0.08771  0.01353  20.644  0.434969  0.819235 -4.117501  0.334147   \n",
"4      0.10470  0.01767  19.649  0.417356  0.823484 -3.747787  0.234513   \n",
"\n",
"         D2       PPE  status  \n",
"0  2.301442  0.284654       1  \n",
"1  2.486855  0.368674       1  \n",
"2  2.342259  0.332634       1  \n",
"3  2.405554  0.368975       1  \n",
"4  2.332180  0.410335       1  \n",
"\n",
"[5 rows x 24 columns]"
]
},
"execution_count": 3,
"metadata": {},
"output_type": "execute_result"
}
],
"source": [
"#Read the data\n",
"df=pd.read_csv('https://raw.githubusercontent.com/chaitanyabaranwal/ParkinsonAnalysis/master/parkinsons.csv')\n",
"df.head()"
]
},
{
"cell_type": "code",
"execution_count": 4,
"metadata": {},
"outputs": [],
"source": [
"#Get the features and labels\n",
"features=df.loc[:,df.columns!='status'].values[:,1:]\n",
"labels=df.loc[:,'status'].values"
]
},
{
"cell_type": "code",
"execution_count": 5,
"metadata": {},
"outputs": [
{
"name": "stdout",
"output_type": "stream",
"text": [
"147 48\n"
]
}
],
"source": [
"#Get the count of each label (0 and 1) in labels\n",
"print(labels[labels==1].shape[0], labels[labels==0].shape[0])"
]
},
{
"cell_type": "code",
"execution_count": 6,
"metadata": {},
"outputs": [],
"source": [
"#Scale the features to between -1 and 1\n",
"scaler=MinMaxScaler((-1,1))\n",
"x=scaler.fit_transform(features)\n",
"y=labels"
]
},
{
"cell_type": "code",
"execution_count": 7,
"metadata": {},
"outputs": [],
"source": [
"#Split the dataset\n",
"x_train,x_test,y_train,y_test=train_test_split(x, y, test_size=0.2, random_state=7)\n"
]
},
{
"cell_type": "code",
"execution_count": 8,
"metadata": {},
"outputs": [
{
"name": "stdout",
"output_type": "stream",
"text": [
"[09:22:14] WARNING: C:/Users/Administrator/workspace/xgboost-win64_release_1.3.0/src/learner.cc:1061: Starting in XGBoost 1.3.0, the default evaluation metric used with the objective 'binary:logistic' was changed from 'error' to 'logloss'. Explicitly set eval_metric if you'd like to restore the old behavior.\n"
]
},
{
"name": "stderr",
"output_type": "stream",
"text": [
"D:\\anaconda3\\lib\\site-packages\\xgboost\\sklearn.py:892: UserWarning: The use of label encoder in XGBClassifier is deprecated and will be removed in a future release. To remove this warning, do the following: 1) Pass option use_label_encoder=False when constructing XGBClassifier object; and 2) Encode your labels (y) as integers starting with 0, i.e. 0, 1, 2, ..., [num_class - 1].\n",
"  warnings.warn(label_encoder_deprecation_msg, UserWarning)\n"
]
},
{
"data": {
"text/plain": [
"XGBClassifier(base_score=0.5, booster='gbtree', colsample_bylevel=1,\n",
"              colsample_bynode=1, colsample_bytree=1, gamma=0, gpu_id=-1,\n",
"              importance_type='gain', interaction_constraints='',\n",
"              learning_rate=0.300000012, max_delta_step=0, max_depth=6,\n",
"              min_child_weight=1, missing=nan, monotone_constraints='()',\n",
"              n_estimators=100, n_jobs=8, num_parallel_tree=1,\n",
"              objective='binary:logistic', random_state=0, reg_alpha=0,\n",
"              reg_lambda=1, scale_pos_weight=1, subsample=1,\n",
"              tree_method='exact', use_label_encoder=True,\n",
"              validate_parameters=1, verbosity=None)"
]
},
"execution_count": 8,
"metadata": {},
"output_type": "execute_result"
}
],
"source": [
"#Train the model\n",
"model=XGBClassifier()\n",
"model.fit(x_train,y_train)"
]
},
{
"cell_type": "code",
"execution_count": 9,
"metadata": {},
"outputs": [
{
"name": "stdout",
"output_type": "stream",
"text": [
"94.87179487179486\n"
]
}
],
"source": [
"#Calculate the accuracy\n",
"y_pred=model.predict(x_test)\n",
"print(accuracy_score(y_test, y_pred)*100)\n"
]
},
{
"cell_type": "code",
"execution_count": null,
"metadata": {},
"outputs": [],
"source": []
}
],
"metadata": {
"kernelspec": {
"display_name": "Python 3",
"language": "python",
"name": "python3"
},
"language_info": {
"codemirror_mode": {
"name": "ipython",
"version": 3
},
"file_extension": ".py",
"mimetype": "text/x-python",
"name": "python",
"nbconvert_exporter": "python",
"pygments_lexer": "ipython3",
"version": "3.7.6"
}
},
"nbformat": 4,
"nbformat_minor": 4
}
